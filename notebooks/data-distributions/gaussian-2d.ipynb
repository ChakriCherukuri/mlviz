{
 "cells": [
  {
   "cell_type": "code",
   "execution_count": null,
   "metadata": {},
   "outputs": [],
   "source": [
    "import numpy as np\n",
    "import ipywidgets as widgets\n",
    "import bqplot as bq\n",
    "import bqplot.pyplot as plt"
   ]
  },
  {
   "cell_type": "code",
   "execution_count": null,
   "metadata": {},
   "outputs": [],
   "source": [
    "slider_args = dict(step=0.01, layout={'width':'300px'})\n",
    "rho_slider = widgets.FloatSlider(description=\"$\\\\rho$\", min=-1.0, max=1.0, value=0.0, **slider_args)\n",
    "s1_slider = widgets.FloatSlider(description=\"$\\sigma_A$\", min=0.01, max=1.0, value=1.0, **slider_args)\n",
    "s2_slider = widgets.FloatSlider(description=\"$\\sigma_B$\", min=0.01, max=1.0, value=1.0, **slider_args)\n",
    "\n",
    "fig = plt.figure(title=\"Iso-density Contours Of Bivariate Gaussian\", \n",
    "                 min_height=800, min_width=800, preserve_aspect=True,\n",
    "                 padding_x=0.025,\n",
    "                 layout={'width':'500px', 'height':'500px'})\n",
    "plt.scales(scales={\"x\": bq.LinearScale(min=-3, max=3),\n",
    "                   \"y\": bq.LinearScale(min=-3, max=3)})\n",
    "axes_options = {\"x\": dict(tick_format=\"0.1f\", num_ticks=5, label=\"X1\"),\n",
    "                \"y\": dict(tick_format=\"0.1f\", num_ticks=5, label=\"X2\")}\n",
    "ellipses = plt.plot([], [], axes_options=axes_options)\n",
    "\n",
    "def update_contours(*args):\n",
    "    s1 = s1_slider.value\n",
    "    s2 = s2_slider.value\n",
    "    rho = rho_slider.value\n",
    "    theta = np.linspace(0, 2 * np.pi, 1000)\n",
    "    x = s1 * np.cos(theta)\n",
    "    y = s2 * np.sin(theta)    \n",
    "    y = rho * x + np.sqrt(1 - rho**2) * y\n",
    "    with ellipses.hold_sync():\n",
    "        ellipses.x = [x, 2 * x, 3 * x]\n",
    "        ellipses.y = [y, 2 * y, 3 * y]\n",
    "\n",
    "for w in [s1_slider, s2_slider, rho_slider]:\n",
    "    w.observe(update_contours)\n",
    "\n",
    "update_contours(None)\n",
    "widgets.HBox([fig, widgets.VBox([s1_slider, s2_slider, rho_slider])])"
   ]
  }
 ],
 "metadata": {
  "kernelspec": {
   "display_name": "Python 3 (ipykernel)",
   "language": "python",
   "name": "python3"
  },
  "language_info": {
   "codemirror_mode": {
    "name": "ipython",
    "version": 3
   },
   "file_extension": ".py",
   "mimetype": "text/x-python",
   "name": "python",
   "nbconvert_exporter": "python",
   "pygments_lexer": "ipython3",
   "version": "3.7.10"
  }
 },
 "nbformat": 4,
 "nbformat_minor": 4
}
