{
 "cells": [
  {
   "cell_type": "code",
   "execution_count": 1,
   "metadata": {},
   "outputs": [],
   "source": [
    "import numpy as np\n",
    "from scipy.stats import norm\n",
    "\n",
    "import ipywidgets as w\n",
    "import bqplot as bq\n",
    "import bqplot.pyplot as plt\n",
    "from bqplot import *"
   ]
  },
  {
   "cell_type": "code",
   "execution_count": 2,
   "metadata": {},
   "outputs": [],
   "source": [
    "def squared_exponential(x1, x2, sigma=1., l=1.):\n",
    "    z = (x1 - x2[:, np.newaxis]) / l\n",
    "    return sigma**2 * np.exp(-.5 * z ** 2)"
   ]
  },
  {
   "cell_type": "code",
   "execution_count": 3,
   "metadata": {},
   "outputs": [],
   "source": [
    "def gp_regression(x_train, y_train, x_test,\n",
    "                  kernel=squared_exponential,\n",
    "                  sigma_noise=.1,\n",
    "                  params=dict(sigma=1., l=1.)):\n",
    "    # compute the kernel matrices for train, train_test, test combinations\n",
    "    K = kernel(x_train, x_train, **params)\n",
    "    K_s = kernel(x_train, x_test, **params)\n",
    "    \n",
    "    \n",
    "    \n",
    "    \n",
    "    K_ss = kernel(x_test, x_test, **params)\n",
    "    \n",
    "    n, p = len(x_train), len(x_test)\n",
    "    \n",
    "    # compute the posterior mean and cov\n",
    "    mu_s = np.dot(K_s, np.linalg.solve(K + sigma_noise**2 * np.eye(n), y_train))\n",
    "    cov_s = K_ss - np.dot(K_s, np.linalg.solve(K + sigma_noise**2 * np.eye(n), K_s.T))\n",
    "    \n",
    "    # prior and posterior means and cov matrices\n",
    "    mu_prior, cov_prior = np.zeros(p), K_ss\n",
    "    mu_post, cov_post = mu_s, cov_s + sigma_noise**2\n",
    "    \n",
    "    return dict(prior=(mu_prior, cov_prior), \n",
    "                posterior=(mu_post, cov_post))"
   ]
  },
  {
   "cell_type": "code",
   "execution_count": 5,
   "metadata": {},
   "outputs": [],
   "source": [
    "def expected_improvement(x_test, x_train, y_train, xi=0.01):\n",
    "    # run gp regession for x_test\n",
    "    gp_res = gp_regression(x_train, y_train, x_test,\n",
    "                           sigma_noise=.1,\n",
    "                           params=dict(sigma=1., l=1.))\n",
    "\n",
    "    mu_prior, cov_prior = gp_res['prior']\n",
    "    mu_post, cov_post = gp_res['posterior']\n",
    "\n",
    "    mu = mu_prior\n",
    "    sigma = np.sqrt(np.diag(cov_prior))\n",
    "    \n",
    "    # compute y_pred by interpolating mu_post at x_train points\n",
    "    y_pred = np.interp(x_train, x_test, mu_post)\n",
    "    mu_plus = np.max(y_pred)\n",
    "\n",
    "    Z = (mu - mu_plus - xi) / sigma\n",
    "    ei = (mu - mu_plus - xi) * norm.cdf(Z) + sigma * norm.pdf(Z)\n",
    "    ei[sigma == 0.0] = 0.0\n",
    "\n",
    "    return ei"
   ]
  },
  {
   "cell_type": "code",
   "execution_count": 6,
   "metadata": {},
   "outputs": [],
   "source": [
    "# ground truth\n",
    "def f(x): return -np.exp(-x) * np.sin(5 * x)\n",
    "x = np.linspace(0.5, 2.5, 500)\n",
    "y = f(x)"
   ]
  },
  {
   "cell_type": "code",
   "execution_count": 8,
   "metadata": {},
   "outputs": [
    {
     "data": {
      "application/vnd.jupyter.widget-view+json": {
       "model_id": "d7d59166223541fe820220deedfbf389",
       "version_major": 2,
       "version_minor": 0
      },
      "text/plain": [
       "VBox(children=(HBox(children=(Figure(animation_duration=750, axes=[Axis(label='X', scale=LinearScale()), Axis(…"
      ]
     },
     "metadata": {},
     "output_type": "display_data"
    }
   ],
   "source": [
    "gp_fig = plt.figure(title='Bayesian Optimization', \n",
    "                    animation_duration=750, \n",
    "                    layout=dict(width='1000px', height='600px'))\n",
    "plt.scales(scales={'y': bq.LinearScale(min=-.6, max=.6)})\n",
    "plt.plot(x, y, colors=['limegreen'], labels=['Ground Truth'], display_legend=True)\n",
    "train_scat = plt.scatter([], [], colors=['magenta'], \n",
    "                         enable_move=True,\n",
    "                         labels=['Function Evaluations'],\n",
    "                         display_legend=True,\n",
    "                         interactions={'click': 'add'},\n",
    "                         marker_size=1, marker='square')\n",
    "gp_line = plt.plot(x, [], 'm')\n",
    "std_bands = plt.plot(x, [],\n",
    "                     fill='between',\n",
    "                     fill_colors=['yellow'],\n",
    "                     fill_opacities=[.2], stroke_width=0)\n",
    "plt.xlabel('X')\n",
    "plt.ylabel('Y')\n",
    "\n",
    "std_bands_cb = w.Checkbox(description='Display Std Bands?')\n",
    "\n",
    "# acquisition function\n",
    "xi_slider = w.FloatSlider(description='$\\\\xi$', value=.01, min=0, max=.1, step=.01)\n",
    "af_fig = plt.figure(title='Acquisition Function', \n",
    "                    layout=dict(width='1000px', height='300px'))\n",
    "acq_func_line = plt.plot(x, [], colors=['salmon'], \n",
    "                         label='Acquisition Function',\n",
    "                         display_legend=True)\n",
    "\n",
    "def update_reg_line(*args):\n",
    "    global gp_res, x_train, y_train\n",
    "    x_train = train_scat.x\n",
    "    y_train = train_scat.y\n",
    "    \n",
    "    gp_res = gp_regression(x_train, y_train, x, sigma_noise=0.01)\n",
    "    mu_post, cov_post = gp_res['posterior']\n",
    "    \n",
    "    # update the regression line to the mean of the posterior distribution\n",
    "    gp_line.y = mu_post\n",
    "\n",
    "    sig_post = np.sqrt(np.diag(cov_post))\n",
    "    # update the std bands to +/- 2 sigmas from the posterior mean\n",
    "    std_bands.y = [mu_post - 2 * sig_post, mu_post + 2 * sig_post]\n",
    "\n",
    "    update_acq_func(None)\n",
    "    \n",
    "\n",
    "def update_acq_func(*args):\n",
    "    mu_post, cov_post = gp_res['posterior']\n",
    "\n",
    "    mu = mu_post\n",
    "    sigma = np.sqrt(np.diag(cov_post))\n",
    "\n",
    "    # compute y_pred by interpolating mu_post at x_train points\n",
    "    y_pred = np.interp(x_train, x, mu_post)\n",
    "    mu_plus = np.max(y_pred)\n",
    "\n",
    "    xi = xi_slider.value\n",
    "    Z = (mu - mu_plus - xi) / sigma\n",
    "    exp_improvement = (mu - mu_plus - xi) * norm.cdf(Z) + sigma * norm.pdf(Z)\n",
    "    exp_improvement[sigma == 0.0] = 0.0\n",
    "\n",
    "    acq_func_line.y = exp_improvement\n",
    "    \n",
    "_ = w.jslink((std_bands_cb, 'value'), (std_bands, 'visible'))\n",
    "train_scat.observe(update_reg_line, 'x')\n",
    "xi_slider.observe(update_acq_func)\n",
    "\n",
    "w.VBox([w.HBox([gp_fig, std_bands_cb]), w.HBox([af_fig, xi_slider])])"
   ]
  },
  {
   "cell_type": "code",
   "execution_count": null,
   "metadata": {},
   "outputs": [],
   "source": []
  },
  {
   "cell_type": "code",
   "execution_count": null,
   "metadata": {},
   "outputs": [],
   "source": []
  }
 ],
 "metadata": {
  "kernelspec": {
   "display_name": "Python 3",
   "language": "python",
   "name": "python3"
  },
  "language_info": {
   "codemirror_mode": {
    "name": "ipython",
    "version": 3
   },
   "file_extension": ".py",
   "mimetype": "text/x-python",
   "name": "python",
   "nbconvert_exporter": "python",
   "pygments_lexer": "ipython3",
   "version": "3.9.2"
  }
 },
 "nbformat": 4,
 "nbformat_minor": 4
}
