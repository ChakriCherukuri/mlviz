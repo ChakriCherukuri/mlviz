{
 "cells": [
  {
   "cell_type": "markdown",
   "metadata": {},
   "source": [
    "## Simulating Points In A Unit Disc\n",
    "\n",
    "To simulate points in a disc one approach is to simulate points in a unit square and reject points falling outside the disc. But this wastes some points (~22%).\n",
    "\n",
    "Let's try to directly simulate points in the disc using polar coordinates ($R$, $\\Theta$). \n",
    "\n",
    "Naive approach is to simulate $R$, $\\Theta$ as follows:\n",
    "$R \\sim  U[0,1]$ and $ \\Theta \\sim U[0, 2\\pi]$. This is incorrect because $R$ is not $U \\sim [0,1]$\n",
    "\n",
    "The distribution of $R$ can be computed as follows:\n",
    "\n",
    "$ P(R < r)  = \\frac{\\pi r^2}{\\pi.1^2} $. Therefore, the CDF is $ F_R(r) = r^2 $\n",
    "\n",
    "Using the inverse CDF transform we can simulate the random variable $R$ as $\\sqrt{U[0,1]}$ which is the correct way to simulate the random variable $R$. \n",
    "\n",
    "The visualization compares both the approaches for simulating $R$. Without the square root transform the points are not simulated uniformly within the disc, with concentration of points close to the center."
   ]
  },
  {
   "cell_type": "code",
   "execution_count": 1,
   "metadata": {},
   "outputs": [],
   "source": [
    "import numpy as np\n",
    "\n",
    "import ipywidgets as w\n",
    "\n",
    "import bqplot.pyplot as plt\n",
    "from bqplot import *"
   ]
  },
  {
   "cell_type": "code",
   "execution_count": 2,
   "metadata": {},
   "outputs": [
    {
     "data": {
      "application/vnd.jupyter.widget-view+json": {
       "model_id": "f0d2b4e84a45451eba547ee32610b574",
       "version_major": 2,
       "version_minor": 0
      },
      "text/plain": [
       "VBox(children=(HBox(children=(IntSlider(value=2000, description='Points', layout=Layout(width='400px'), max=50…"
      ]
     },
     "metadata": {},
     "output_type": "display_data"
    }
   ],
   "source": [
    "n_slider = w.IntSlider(description='Points', min=1000, value=2000, max=5000, step=500)\n",
    "n_slider.layout.width = '400px'\n",
    "\n",
    "do_sqrt_check_box = widgets.Checkbox(description='Sqrt Transform')\n",
    "\n",
    "go_btn = w.Button(description='GO', button_style='success')\n",
    "\n",
    "pi_label_tmpl = '<div style=\"font-size: 20px; font-weight: bold;\">pi = {pi:.4f} for n = {n}</div>'\n",
    "pi_label = w.HTML(pi_label_tmpl.format(pi=0, n=0))\n",
    "xs, ys = LinearScale(min=-1, max=1), LinearScale(min=-1, max=1)\n",
    "\n",
    "# points inside arc\n",
    "dots = ScatterGL(x=[], \n",
    "                 y=[],\n",
    "                 colors=['limegreen'],\n",
    "                 scales={'x': xs, 'y': ys},\n",
    "                 stroke='black',\n",
    "                 default_size=20)\n",
    "\n",
    "xax = Axis(scale=xs, grid_lines='none', num_ticks=0)\n",
    "yax = Axis(scale=ys, orientation='vertical', grid_lines='none', num_ticks=0)\n",
    "yax.offset = dict(value=0, scale=xs)\n",
    "xax.offset = dict(value=0, scale=ys)\n",
    "\n",
    "# circle\n",
    "x = np.linspace(-1, 1, 500)\n",
    "y = np.sqrt(1 - x ** 2)\n",
    "circle = plt.plot(x, [y, -y], 'm', stroke_width=2)\n",
    "\n",
    "fig = Figure(marks=[dots, circle], axes=[xax, yax], title='Points In A Disc')\n",
    "fig.layout.width = '500px'\n",
    "fig.layout.height = '500px'\n",
    "\n",
    "def animate(*args):\n",
    "    N = n_slider.value\n",
    "\n",
    "    # simulate r, theta from two independent uniforms\n",
    "    do_sqrt = do_sqrt_check_box.value\n",
    "    u1, u2 = np.random.rand(2, N)\n",
    "    r = np.sqrt(u1) if do_sqrt else u1\n",
    "    theta = 2 * np.pi * u2\n",
    "    \n",
    "    x_points, y_points = [], []\n",
    "    \n",
    "    for i in range(N):\n",
    "        xi = r[i] * np.cos(theta[i])\n",
    "        yi = r[i] * np.sin(theta[i])\n",
    "        \n",
    "        x_points.append(xi)\n",
    "        y_points.append(yi)\n",
    "        \n",
    "        with dots.hold_sync():\n",
    "            dots.x, dots.y = x_points, y_points\n",
    "\n",
    "go_btn.on_click(animate)\n",
    "\n",
    "w.VBox([w.HBox([n_slider, do_sqrt_check_box, go_btn]), fig])"
   ]
  }
 ],
 "metadata": {
  "kernelspec": {
   "display_name": "Python 3 (ipykernel)",
   "language": "python",
   "name": "python3"
  },
  "language_info": {
   "codemirror_mode": {
    "name": "ipython",
    "version": 3
   },
   "file_extension": ".py",
   "mimetype": "text/x-python",
   "name": "python",
   "nbconvert_exporter": "python",
   "pygments_lexer": "ipython3",
   "version": "3.7.10"
  }
 },
 "nbformat": 4,
 "nbformat_minor": 4
}
