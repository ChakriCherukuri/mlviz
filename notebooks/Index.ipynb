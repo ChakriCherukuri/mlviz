{
 "cells": [
  {
   "cell_type": "markdown",
   "metadata": {},
   "source": [
    "## `mlviz`\n",
    "\n",
    "* Data Distributions\n",
    "    * [Datasaurus Dozen](data-distributions/datasaurus/datasaurus.ipynb)\n",
    "    * [Univariate Gaussian Distribution](data-distributions/gaussian-1d.ipynb)\n",
    "    * [Bivariate Gaussian Distribution](data-distributions/gaussian-2d.ipynb)\n",
    "    * Monte Carlo Simulation\n",
    "      * [Estimation of $\\pi$](data-distributions/monte-carlo/pi-estimation.ipynb)\n",
    "      * [Points in a unit disc](data-distributions/monte-carlo/points-in-disc.ipynb)\n",
    "    \n",
    "* Unsupervised Learning\n",
    "    * Low dimensional representations\n",
    "        * [MNIST](unsupervised-learning/mnist-clustering.ipynb)\n",
    "    * Clustering\n",
    "        * [K-Means](unsupervised-learning/kmeans.ipynb)\n",
    "\n",
    "* Supervised Learning\n",
    "    * [Linear Regression](supervised-learning/linear-regression.ipynb) \n",
    "    * [Perceptron](supervised-learning/perceptron.ipynb)\n",
    "    * [Kernel Regression](supervised-learning/kernel-regression.ipynb)\n",
    "    * [Quantile Regression](supervised-learning/quantile-regression.ipynb)\n",
    "\n",
    "* Bayesian Optimization\n",
    "    * [Gaussian Process Regression](bayesian-optimization/gaussian-process-regression.ipynb)\n",
    "    * [Acquisition Functions](bayesian-optimization/acquisition-funcs.ipynb)\n",
    "\n",
    "* Deep Learning\n",
    "    * [Gradient Descent](deep-learning/gradient-descent.ipynb)\n",
    "    * [Activation Functions](deep-learning/activation-funcs.ipynb)\n",
    "    * [MNIST Classifier Performance Analysis](deep-learning/mnist/mnist-classifier-performance.ipynb)\n",
    "    * [Neural Net Builder](deep-learning/neural-net-builder/neural-net-builder.ipynb)"
   ]
  }
 ],
 "metadata": {
  "kernelspec": {
   "display_name": "Python 3 (ipykernel)",
   "language": "python",
   "name": "python3"
  },
  "language_info": {
   "codemirror_mode": {
    "name": "ipython",
    "version": 3
   },
   "file_extension": ".py",
   "mimetype": "text/x-python",
   "name": "python",
   "nbconvert_exporter": "python",
   "pygments_lexer": "ipython3",
   "version": "3.7.10"
  }
 },
 "nbformat": 4,
 "nbformat_minor": 4
}
