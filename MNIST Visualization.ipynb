{
 "cells": [
  {
   "cell_type": "code",
   "execution_count": null,
   "metadata": {},
   "outputs": [],
   "source": [
    "from collections import OrderedDict\n",
    "\n",
    "import numpy as np\n",
    "import pandas as pd\n",
    "import tensorflow as tf\n",
    "\n",
    "from ipywidgets import *\n",
    "from bqplot import *\n",
    "import bqplot.pyplot as plt"
   ]
  },
  {
   "cell_type": "code",
   "execution_count": null,
   "metadata": {},
   "outputs": [],
   "source": [
    "mnist = tf.keras.datasets.mnist\n",
    "(X_train, y_train), (X_test, y_test) = mnist.load_data()"
   ]
  },
  {
   "cell_type": "code",
   "execution_count": null,
   "metadata": {},
   "outputs": [],
   "source": [
    "n = 1000\n",
    "X = X_train[:n].reshape(n, 784)\n",
    "labels = y_train[:n]"
   ]
  },
  {
   "cell_type": "code",
   "execution_count": null,
   "metadata": {},
   "outputs": [],
   "source": [
    "from sklearn.decomposition import PCA\n",
    "from sklearn.manifold import MDS, TSNE\n",
    "    \n",
    "pca = PCA(n_components=2)\n",
    "X_pca = pca.fit_transform(X)\n",
    "print('PCA done')\n",
    "\n",
    "tsne = TSNE(n_components=2, perplexity=30, random_state=42, learning_rate=1000)\n",
    "X_tsne = tsne.fit_transform(X)\n",
    "print('TSNE done')"
   ]
  },
  {
   "cell_type": "code",
   "execution_count": null,
   "metadata": {},
   "outputs": [],
   "source": [
    "data_map = OrderedDict({'PCA': X_pca,\n",
    "                        'TSNE': X_tsne})"
   ]
  },
  {
   "cell_type": "code",
   "execution_count": null,
   "metadata": {
    "scrolled": false
   },
   "outputs": [],
   "source": [
    "method_dropown = Dropdown(description='Embedding', options=data_map.keys())\n",
    "\n",
    "title_tmpl = '{} on MNIST Data'\n",
    "fig = plt.figure(title=title_tmpl.format(method_dropown.value),\n",
    "                 animation_duration=1000)\n",
    "fig.layout.width = '1000px'\n",
    "fig.layout.height = '700px'\n",
    "plt.scales(scales={'color': OrdinalColorScale(domain=list(np.arange(10)), colors=CATEGORY10)})\n",
    "scatter = plt.scatter([], [], color=labels, stroke='black', default_size=64)\n",
    "\n",
    "def update(*args):\n",
    "    method = method_dropown.value\n",
    "    fig.title = title_tmpl.format(method)\n",
    "    X = data_map[method]\n",
    "    with scatter.hold_sync():\n",
    "        scatter.x = X[:, 0]\n",
    "        scatter.y = X[:, 1]\n",
    "\n",
    "method_dropown.observe(update, 'value')\n",
    "update()\n",
    "VBox([method_dropown, fig])"
   ]
  }
 ],
 "metadata": {
  "kernelspec": {
   "display_name": "Python 3",
   "language": "python",
   "name": "python3"
  },
  "language_info": {
   "codemirror_mode": {
    "name": "ipython",
    "version": 3
   },
   "file_extension": ".py",
   "mimetype": "text/x-python",
   "name": "python",
   "nbconvert_exporter": "python",
   "pygments_lexer": "ipython3",
   "version": "3.7.3"
  }
 },
 "nbformat": 4,
 "nbformat_minor": 2
}
