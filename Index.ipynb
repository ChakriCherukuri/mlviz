{
 "cells": [
  {
   "cell_type": "markdown",
   "metadata": {},
   "source": [
    "## mlviz\n",
    "\n",
    "`mlviz` is collection of notebooks containing interactive visualizations of theoretical and applied machine learning models. These are built using the following jupyter widget libraries:\n",
    "1. [bqplot](https://github.com/bqplot/bqplot)\n",
    "2. [ipywidgets](https://ipywidgets.readthedocs.io/en/latest/examples/Widget%20List.html)\n",
    "3. [voila](https://github.com/voila-dashboards/voila)\n",
    "\n",
    "Table Of Contents:\n",
    "\n",
    "* Data distributions\n",
    "    * [Datasaurus Dozen](../voila/render/Datasaurus.ipynb)\n",
    "    \n",
    "* Unsupervised learning\n",
    "    * [K-Means](../voila/render/K-Means%20Clustering.ipynb)\n",
    "   \n",
    "* Low dimensional representations\n",
    "    * [IRIS](../voila/render/IRIS%20Visualization.ipynb)\n",
    "    * [MNIST](../voila/render/MNIST%20Visualization.ipynb)\n",
    "\n",
    "* Supervised learning\n",
    "    * [Linear Regression](../voila/render/Linear%20Regression.ipynb) \n",
    "    * [Perceptron](../voila/render/Perceptron%20Animation.ipynb)\n",
    "    * [Kernel Regression](../voila/render/Kernel%20Regression.ipynb)\n",
    "    * [Gradient Descent](../voila/render/Gradient%20Descent.ipynb)\n",
    "\n",
    "* Bayesian Optimization\n",
    "    * [Gaussian Process Regression](../voila/render/Gaussian%20Process%20Regression.ipynb)\n",
    "    * Acquisition Functions and BO"
   ]
  }
 ],
 "metadata": {
  "kernelspec": {
   "display_name": "Python 3",
   "language": "python",
   "name": "python3"
  },
  "language_info": {
   "codemirror_mode": {
    "name": "ipython",
    "version": 3
   },
   "file_extension": ".py",
   "mimetype": "text/x-python",
   "name": "python",
   "nbconvert_exporter": "python",
   "pygments_lexer": "ipython3",
   "version": "3.8.2"
  }
 },
 "nbformat": 4,
 "nbformat_minor": 4
}
