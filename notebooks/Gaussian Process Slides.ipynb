{
 "cells": [
  {
   "cell_type": "markdown",
   "metadata": {},
   "source": [
    "<h2> Multi-variate Gaussian Distribution </h2>\n",
    "\n",
    "The multivariate normal distribution of a k-dimensional random vector $ \\large X =(X_{1},\\ldots ,X_{k})^{T}$ is given by:<br>\n",
    "$ \\large  X \\sim  N \\boldsymbol (\\mu, \\boldsymbol \\Sigma) $\n",
    "with k-dimensional mean vector <br>\n",
    "$ \\large \\boldsymbol \\mu = E[X] = [E[X_{1}], E[X_{2}],\\ldots , E[X_{k}]]^{T} $\n",
    "\n",
    "and $ \\large k \\times k $ covariance matrix $\\large \\Sigma $\n",
    "\n",
    "<h2> Gaussian Process </h2>\n",
    "* GP is Gaussian distribution over functions. We are learning a *distribution* from empirical data\n",
    "* Start with prior $\\large f_{prior} \\sim  N  (\\boldsymbol 0, \\boldsymbol K) $\n",
    "* Compute the posterior from training samples by doing a bayesian update<br>\n",
    "$ \\large  f_{posterior} \\sim  N \\boldsymbol (\\mu_{*}, \\Sigma_{*}) $ where <br>\n",
    "$ \\large \\mu_* = K_* K^{-1} y $ <br>\n",
    "$ \\large \\Sigma_* = K_{∗∗} − K_∗ K^{−1} K^T $\n"
   ]
  },
  {
   "cell_type": "markdown",
   "metadata": {},
   "source": [
    "## Gaussian Process\n",
    "\n",
    "* Non-parameteric method\n",
    "\n",
    "* Infer distribution over functions\n",
    "\n",
    "* Define a prior over functions\n",
    "\n",
    "* After observing some function values compute the posterior over functions"
   ]
  },
  {
   "cell_type": "markdown",
   "metadata": {},
   "source": [
    "## Gaussian Process\n",
    "\n",
    "* Random process where any point $\\boldsymbol x\\in ℝ^d$ is assigned a random variable $f(\\boldsymbol x)$ \n",
    "* Joint distribution of a $N$ samples $p(f(\\boldsymbol x_1),…,f(\\boldsymbol x_N))$ is itself \n",
    "    Gaussian $ p(f|\\boldsymbol X)= N(f|\\boldsymbol \\mu, \\boldsymbol K) $\n",
    "    * $ \\boldsymbol \\mu = m(\\boldsymbol x_1),…,m(\\boldsymbol x_N) $ where $m$ is the mean function\n",
    "    * $\\boldsymbol K_{ij} = \\boldsymbol \\kappa(\\boldsymbol x_i, \\boldsymbol x_j) $ where $\\kappa$ is a positive definite kernel function or covariance function"
   ]
  },
  {
   "cell_type": "markdown",
   "metadata": {},
   "source": [
    "* Given a training dataset with noise-free function values f at inputs X, a GP prior can be converted into a GP posterior p(f∗|X∗,X,f) which can then be used to make predictions f∗ at new inputs X∗. By definition of a GP, the joint distribution of observed values f and predictions f∗ is again a Gaussian which can be partitioned into\n",
    "\n",
    "(ff∗)∼(0,(KKT∗K∗K∗∗))(2)"
   ]
  },
  {
   "cell_type": "code",
   "execution_count": null,
   "metadata": {},
   "outputs": [],
   "source": []
  }
 ],
 "metadata": {
  "kernelspec": {
   "display_name": "Python 3",
   "language": "python",
   "name": "python3"
  },
  "language_info": {
   "codemirror_mode": {
    "name": "ipython",
    "version": 3
   },
   "file_extension": ".py",
   "mimetype": "text/x-python",
   "name": "python",
   "nbconvert_exporter": "python",
   "pygments_lexer": "ipython3",
   "version": "3.9.2"
  }
 },
 "nbformat": 4,
 "nbformat_minor": 2
}
