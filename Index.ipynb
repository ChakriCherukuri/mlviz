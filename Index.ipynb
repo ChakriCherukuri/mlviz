{
 "cells": [
  {
   "cell_type": "markdown",
   "metadata": {},
   "source": [
    "## mlviz\n",
    "\n",
    "`mlviz` is collection of notebooks containing interactive visualizations of theoretical and applied machine learning models. These are built using the following jupyter widget libraries:\n",
    "1. <a href=\"https://github.com/bqplot/bqplot\" target=\"_blank\">bqplot</a>\n",
    "2. <a href=\"https://ipywidgets.readthedocs.io/en/latest/examples/Widget%20List.html\" target=\"_blank\">ipywidgets</a>\n",
    "3. <a href=\"https://github.com/voila-dashboards/voila\" target=\"_blank\">voila</a>\n",
    "\n",
    "Table Of Contents:\n",
    "\n",
    "* Data distributions\n",
    "    * [Datasaurus Dozen](Datasaurus.ipynb)\n",
    "    * [Univariate Gaussian Distribution](Gaussian%20Density.ipynb)\n",
    "    \n",
    "* Unsupervised learning\n",
    "    * Low dimensional representations\n",
    "        * [IRIS](IRIS%20Visualization.ipynb)\n",
    "        * [MNIST](MNIST%20Visualization.ipynb)\n",
    "    * [K-Means](K-Means%20Clustering.ipynb)\n",
    "\n",
    "* Supervised learning\n",
    "    * [Linear Regression](Linear%20Regression.ipynb) \n",
    "    * [Perceptron](Perceptron%20Animation.ipynb)\n",
    "    * [Kernel Regression](Kernel%20Regression.ipynb)\n",
    "    * [Gradient Descent](Gradient%20Descent.ipynb)\n",
    "\n",
    "* Bayesian Optimization\n",
    "    * [Gaussian Process Regression](Gaussian%20Process%20Regression.ipynb)\n",
    "    * Acquisition Functions and BO"
   ]
  }
 ],
 "metadata": {
  "kernelspec": {
   "display_name": "Python 3",
   "language": "python",
   "name": "python3"
  },
  "language_info": {
   "codemirror_mode": {
    "name": "ipython",
    "version": 3
   },
   "file_extension": ".py",
   "mimetype": "text/x-python",
   "name": "python",
   "nbconvert_exporter": "python",
   "pygments_lexer": "ipython3",
   "version": "3.8.2"
  }
 },
 "nbformat": 4,
 "nbformat_minor": 4
}
