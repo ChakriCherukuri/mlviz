{
 "cells": [
  {
   "cell_type": "markdown",
   "metadata": {},
   "source": [
    "## Neural Network Builder\n",
    "\n",
    "Wizard to build/train/diagnose neural network based regression models. THe wizard has four tabs\n",
    "1. Setup the network parameters (batch size, loss, optimizers etc.)\n",
    "2. Setup the architecture (hidden layers etc.)\n",
    "3. Train the model\n",
    "    * visualize loss curves in real time\n",
    "    * Distributions of weights/biases/activations\n",
    "4. Diagnostic plots\n",
    "\n",
    "The wizard is customizable. For example you can build a custom diagnostic plots\n",
    "\n",
    "Training and test datasets should be passed into the wizard during the construction of the widget"
   ]
  },
  {
   "cell_type": "code",
   "execution_count": null,
   "metadata": {},
   "outputs": [],
   "source": [
    "from network_builder import NeuralNetworkBuilder"
   ]
  },
  {
   "cell_type": "code",
   "execution_count": null,
   "metadata": {},
   "outputs": [],
   "source": [
    "import pandas as pd\n",
    "from sklearn.model_selection import train_test_split\n",
    "\n",
    "data = pd.read_csv('../data/bls_prices.csv')\n",
    "X = data.drop('price', axis=1).values\n",
    "y = data['price'].values\n",
    "\n",
    "# split data into train and val sets\n",
    "X_train, X_val, y_train, y_val = train_test_split(X, y, test_size=0.2)"
   ]
  },
  {
   "cell_type": "code",
   "execution_count": null,
   "metadata": {},
   "outputs": [],
   "source": [
    "# scale the data\n",
    "from sklearn.preprocessing import StandardScaler\n",
    "\n",
    "scaler = StandardScaler()\n",
    "X_train_scaled = scaler.fit_transform(X_train)\n",
    "X_val_scaled = scaler.transform(X_val)"
   ]
  },
  {
   "cell_type": "code",
   "execution_count": null,
   "metadata": {
    "scrolled": false
   },
   "outputs": [],
   "source": [
    "from utils import r_square\n",
    "from diagnostic_plots import RegressionDiagnosticPlots\n",
    "\n",
    "diag_plots = RegressionDiagnosticPlots()\n",
    "network = NeuralNetworkBuilder(train_data=(X_train_scaled, y_train), val_data=(X_val_scaled, y_val),  \n",
    "                               metrics=r_square, diagnostic_plots=diag_plots)\n",
    "network"
   ]
  }
 ],
 "metadata": {
  "input_collapsed": false,
  "kernelspec": {
   "display_name": "Python 3",
   "language": "python",
   "name": "python3"
  },
  "language_info": {
   "codemirror_mode": {
    "name": "ipython",
    "version": 3
   },
   "file_extension": ".py",
   "mimetype": "text/x-python",
   "name": "python",
   "nbconvert_exporter": "python",
   "pygments_lexer": "ipython3",
   "version": "3.9.2"
  }
 },
 "nbformat": 4,
 "nbformat_minor": 1
}
