{
 "cells": [
  {
   "cell_type": "code",
   "execution_count": null,
   "metadata": {},
   "outputs": [],
   "source": [
    "import numpy as np\n",
    "import pandas as pd\n",
    "import statsmodels.api as sm\n",
    "import statsmodels.formula.api as smf\n",
    "\n",
    "import ipywidgets as w\n",
    "import bqplot.pyplot as plt\n",
    "import bqplot as bq"
   ]
  },
  {
   "cell_type": "code",
   "execution_count": null,
   "metadata": {},
   "outputs": [],
   "source": [
    "original_data = sm.datasets.engel.load_pandas().data\n",
    "original_data = original_data.rename(columns={'income': 'x', 'foodexp': 'y'})"
   ]
  },
  {
   "cell_type": "code",
   "execution_count": null,
   "metadata": {},
   "outputs": [],
   "source": [
    "def quantile_loss(x, q=.5):\n",
    "    return np.maximum(q * x, (q - 1) * x)\n",
    "\n",
    "def fit_quantile_reg(q, data):\n",
    "    qr_model = smf.quantreg('y ~ x', data)\n",
    "    res = qr_model.fit(q=q)\n",
    "    return res.params['Intercept'], res.params['x']\n",
    "\n",
    "def fit_ols_reg(data):\n",
    "    ols = smf.ols('y ~ x', data).fit()\n",
    "    return ols.params['Intercept'], ols.params['x']"
   ]
  },
  {
   "cell_type": "code",
   "execution_count": null,
   "metadata": {},
   "outputs": [],
   "source": [
    "qloss_fig_title_tmpl = 'Quantile Loss Function (q = {q})'\n",
    "q_slider = w.FloatSlider(description='Quantile', \n",
    "                         value=.5, min=0.05, max=.95,\n",
    "                         step=.05, continuous_update=False)\n",
    "\n",
    "qloss_fig = plt.figure(animation_duration=750,\n",
    "                       layout={'width': '500px', 'height': '400px'})\n",
    "x = np.arange(-10, 10, .1)\n",
    "qloss_line = plt.plot(x, [], colors=['dodgerblue'])"
   ]
  },
  {
   "cell_type": "code",
   "execution_count": null,
   "metadata": {},
   "outputs": [],
   "source": [
    "scat_fig = plt.figure(title='Quantile Regression', \n",
    "                      animation_duration=750,\n",
    "                      layout={'width': '900px', 'height': '600px'},\n",
    "                      legend_location='top-left')\n",
    "plt.scales(scales={'x': bq.LinearScale(min=300, max=2600),\n",
    "                   'y': bq.LinearScale(min=200, max=1600)})\n",
    "\n",
    "scat = plt.scatter(original_data['x'], original_data['y'], colors=['limegreen'], \n",
    "                   default_opacities=[.6],\n",
    "                   enable_move=True,\n",
    "                   interactions={'click': 'add'},\n",
    "                   default_size=50, stroke='black')\n",
    "plt.xlabel('X')\n",
    "plt.ylabel('Y')\n",
    "\n",
    "reg_lines = plt.plot(original_data['x'], [],\n",
    "                     colors=['#ccc', 'magenta'], \n",
    "                     labels=['Linear Regression', 'Quantile Regression'],\n",
    "                     display_legend=True)\n",
    "\n",
    "qr_lines = plt.plot(original_data['x'], [], 'y-.', opacities=[.3])\n",
    "\n",
    "show_qr_lines_cb = w.Checkbox(description='Display all QR lines', value=False)\n",
    "\n",
    "reset_btn = w.Button(description='Reset Points', button_style='success')\n",
    "reset_btn.layout.margin = '0px 0px 0px 50px'\n",
    "\n",
    "def update_reg_lines(*args):\n",
    "    new_data = pd.DataFrame({'x': scat.x, 'y': scat.y})\n",
    "    \n",
    "    q = q_slider.value\n",
    "    qloss_line.y = quantile_loss(x, q=q)\n",
    "    qloss_fig.title = qloss_fig_title_tmpl.format(q=q)\n",
    "    \n",
    "    qr_a, qr_b = fit_quantile_reg(q, new_data)\n",
    "    ols_a, ols_b = fit_ols_reg(new_data)\n",
    "    with reg_lines.hold_sync():\n",
    "        reg_lines.x = new_data['x']\n",
    "        reg_lines.y = [ols_a + ols_b * new_data['x'], \n",
    "                       qr_a + qr_b * new_data['x']]\n",
    "    \n",
    "    qrs = []\n",
    "    for q in np.arange(.1, 1, .1):\n",
    "        qr_a, qr_b = fit_quantile_reg(q, new_data)\n",
    "        qrs.append(qr_a + qr_b * new_data['x'])\n",
    "    \n",
    "    with qr_lines.hold_sync():\n",
    "        qr_lines.x = new_data['x']\n",
    "        qr_lines.y = qrs\n",
    "        \n",
    "def reset_points():\n",
    "    with scat.hold_trait_notifications():\n",
    "        scat.x = original_data['x']\n",
    "        scat.y = original_data['y']\n",
    "\n",
    "reset_btn.on_click(lambda btn: reset_points())\n",
    "_ = w.link((show_qr_lines_cb, 'value'), (qr_lines, 'visible'))\n",
    "\n",
    "scat.observe(update_reg_lines, names=['x', 'y'])\n",
    "q_slider.observe(update_reg_lines)"
   ]
  },
  {
   "cell_type": "code",
   "execution_count": null,
   "metadata": {},
   "outputs": [],
   "source": [
    "update_reg_lines()\n",
    "w.HBox([w.VBox([q_slider, qloss_fig]), w.VBox([scat_fig, w.HBox([reset_btn, show_qr_lines_cb])])])"
   ]
  }
 ],
 "metadata": {
  "kernelspec": {
   "display_name": "Python 3",
   "language": "python",
   "name": "python3"
  },
  "language_info": {
   "codemirror_mode": {
    "name": "ipython",
    "version": 3
   },
   "file_extension": ".py",
   "mimetype": "text/x-python",
   "name": "python",
   "nbconvert_exporter": "python",
   "pygments_lexer": "ipython3",
   "version": "3.8.6"
  }
 },
 "nbformat": 4,
 "nbformat_minor": 4
}
