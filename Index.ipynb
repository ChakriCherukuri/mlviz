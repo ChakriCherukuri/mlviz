{
 "cells": [
  {
   "cell_type": "markdown",
   "metadata": {},
   "source": [
    "## `mlviz`\n",
    "\n",
    "* Data Distributions\n",
    "    * [Datasaurus Dozen](Datasaurus.ipynb)\n",
    "    * [Univariate Gaussian Distribution](Gaussian%20Density.ipynb)\n",
    "    * Bivariate Gaussian Distribution\n",
    "    * Monte Carlo Simulation\n",
    "      * [Estimation of `pi`](Estimation%20Of%20Pi.ipynb)\n",
    "      * [Points in a unit disc](Points%20In%20Unit%20Disc.ipynb)\n",
    "    \n",
    "* Unsupervised Learning\n",
    "    * Low dimensional representations\n",
    "        * [MNIST](MNIST%20Visualization.ipynb)\n",
    "    * Clustering\n",
    "        * [K-Means](K-Means%20Clustering.ipynb)\n",
    "\n",
    "* Supervised Learning\n",
    "    * [Linear Regression](Linear%20Regression.ipynb) \n",
    "    * [Perceptron](Perceptron%20Animation.ipynb)\n",
    "    * [Kernel Regression](Kernel%20Regression.ipynb)\n",
    "    * [Quantile Regression](Quantile%20Regression.ipynb)\n",
    "\n",
    "* Bayesian Optimization\n",
    "    * [Gaussian Process Regression](Gaussian%20Process%20Regression.ipynb)\n",
    "    * Acquisition Functions and BO\n",
    "\n",
    "* Deep Learning\n",
    "    * [Gradient Descent](Gradient%20Descent.ipynb)\n",
    "    * [Activation Functions](Activation%20Functions.ipynb)"
   ]
  }
 ],
 "metadata": {
  "kernelspec": {
   "display_name": "Python 3",
   "language": "python",
   "name": "python3"
  },
  "language_info": {
   "codemirror_mode": {
    "name": "ipython",
    "version": 3
   },
   "file_extension": ".py",
   "mimetype": "text/x-python",
   "name": "python",
   "nbconvert_exporter": "python",
   "pygments_lexer": "ipython3",
   "version": "3.8.6"
  }
 },
 "nbformat": 4,
 "nbformat_minor": 4
}
