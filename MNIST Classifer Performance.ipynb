{
 "cells": [
  {
   "cell_type": "markdown",
   "metadata": {},
   "source": [
    "In this dashboard we will look the performance of an MNIST classifier. For convenience, we will load a pre-trained model.\n",
    "\n",
    "An interactive heatmap is used to display the confusion matrix. Click on any cell of the heatmap to see the corresponding mis-labeled images"
   ]
  },
  {
   "cell_type": "code",
   "execution_count": null,
   "metadata": {},
   "outputs": [],
   "source": [
    "import numpy as np\n",
    "import pandas as pd\n",
    "from tensorflow import keras\n",
    "import ipywidgets as w\n",
    "import bqplot as bq\n",
    "import bqplot.pyplot as plt\n",
    "\n",
    "from PIL import Image"
   ]
  },
  {
   "cell_type": "code",
   "execution_count": null,
   "metadata": {},
   "outputs": [],
   "source": [
    "def create_image_from_array(imarray):\n",
    "    \"\"\"\n",
    "    creates an image widget from 2d numpy array\n",
    "    \"\"\"\n",
    "    image = Image.fromarray(imarray)\n",
    "    image_widget = w.Output()\n",
    "    with image_widget:\n",
    "        display(image)\n",
    "    return image_widget"
   ]
  },
  {
   "cell_type": "code",
   "execution_count": null,
   "metadata": {},
   "outputs": [],
   "source": [
    "num_classes = 10\n",
    "# the data, split between train and test sets\n",
    "(_, _), (x_test, y_test) = keras.datasets.mnist.load_data()\n",
    "\n",
    "x_test = np.expand_dims(x_test, -1)\n",
    "y_test = keras.utils.to_categorical(y_test, num_classes)"
   ]
  },
  {
   "cell_type": "code",
   "execution_count": null,
   "metadata": {},
   "outputs": [],
   "source": [
    "model = keras.models.load_model(\"pretrained_models/mnist_model\")"
   ]
  },
  {
   "cell_type": "code",
   "execution_count": null,
   "metadata": {},
   "outputs": [],
   "source": [
    "from sklearn.metrics import confusion_matrix\n",
    "y_test = np.argmax(y_test, axis=-1)\n",
    "y_test_pred = np.argmax(model.predict(x_test), axis=-1)\n",
    "\n",
    "results_df = pd.DataFrame({'actual': y_test, 'predicted': y_test_pred})"
   ]
  },
  {
   "cell_type": "code",
   "execution_count": null,
   "metadata": {},
   "outputs": [],
   "source": [
    "conf_mat = confusion_matrix(y_test, y_test_pred).astype('float')\n",
    "np.fill_diagonal(conf_mat, np.nan)"
   ]
  },
  {
   "cell_type": "code",
   "execution_count": null,
   "metadata": {},
   "outputs": [],
   "source": [
    "import bqplot.pyplot as plt\n",
    "import bqplot as bq\n",
    "\n",
    "heatmap_fig = plt.figure(layout=dict(width='600px', height='540px'), \n",
    "                         title='Confusion Matrix')\n",
    "plt.scales(scales={'color': bq.ColorScale(scheme='Oranges')})\n",
    "axes_options = ({'color': {'visible': False}, \n",
    "                 'column': {'label': 'Predicted'},\n",
    "                 'row': {'label': 'Actual'}})\n",
    "conf_mat_heatmap = plt.gridheatmap(conf_mat, axes_options=axes_options, \n",
    "                                   font_style={'font-size': '16px', \n",
    "                                               'font-weight': 'bold'},\n",
    "                                   interactions={'click':'select'},\n",
    "                                   selected_style={'stroke': 'limegreen', \n",
    "                                                   'stroke-width': 3}, \n",
    "                                   display_format='.0f')\n",
    "plt.grids(heatmap_fig, 'none')\n",
    "\n",
    "label_tmpl = '<div style=\"font-size: 16px\">Mis-labeled Images<br>{}</div>'\n",
    "images_label = w.HTML(label_tmpl.format(''))\n",
    "images_placeholder = w.Box()"
   ]
  },
  {
   "cell_type": "code",
   "execution_count": null,
   "metadata": {},
   "outputs": [],
   "source": [
    "def on_heatmap_cell_select(*args):\n",
    "    \"\"\"\n",
    "    display mis-labeled images when heatmap cell is clicked\n",
    "    \"\"\"\n",
    "    actual, predicted = conf_mat_heatmap.selected[0]\n",
    "    if actual == predicted:\n",
    "        images_label.value = label_tmpl.format(\"\")\n",
    "        images_placeholder.children = []\n",
    "    else:\n",
    "        images_label.value = label_tmpl.format(f\"Actual: {actual} Predicted: {predicted}\")\n",
    "        ixs = results_df[(results_df['actual'] == actual) & (results_df['predicted'] == predicted)].index\n",
    "        # arrange images in a square grid\n",
    "        n = len(ixs)\n",
    "        ncols = int(np.ceil(np.sqrt(n)))\n",
    "        img_rows = []\n",
    "        for i in range(ncols):\n",
    "            ix_slice = ixs[i*ncols:(i+1)*ncols]\n",
    "            if len(ix_slice) > 0:\n",
    "                col_images = w.HBox([create_image_from_array(x_test[ix].reshape(28, 28)) for ix in ix_slice])\n",
    "                img_rows.append(col_images)\n",
    "        images_placeholder.children = [w.VBox(img_rows)]\n",
    "\n",
    "conf_mat_heatmap.observe(on_heatmap_cell_select, 'selected')"
   ]
  },
  {
   "cell_type": "code",
   "execution_count": null,
   "metadata": {},
   "outputs": [],
   "source": [
    "w.HBox([heatmap_fig, \n",
    "        w.VBox([images_label, images_placeholder],\n",
    "               layout={'margin': '60px 0px 0px 0px'})\n",
    "       ])"
   ]
  }
 ],
 "metadata": {
  "kernelspec": {
   "display_name": "Python 3",
   "language": "python",
   "name": "python3"
  },
  "language_info": {
   "codemirror_mode": {
    "name": "ipython",
    "version": 3
   },
   "file_extension": ".py",
   "mimetype": "text/x-python",
   "name": "python",
   "nbconvert_exporter": "python",
   "pygments_lexer": "ipython3",
   "version": "3.8.6"
  }
 },
 "nbformat": 4,
 "nbformat_minor": 4
}
