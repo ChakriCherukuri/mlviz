{
 "cells": [
  {
   "cell_type": "markdown",
   "metadata": {},
   "source": [
    "In this notebook we'll look at how data visualization can help us understand the relationship between two features(x and y). This is based on a research study called <a href=\"https://www.autodeskresearch.com/publications/samestats\" target=\"_blank\">The Datasaurus Dozen</a> by Autodesk research and the original <a href=\"http://www.thefunctionalart.com/2016/08/download-datasaurus-never-trust-summary.html\" target=\"_blank\">Datasaurus</a> provided by Alberto Cairo.\n",
    "\n",
    "Takeaway: <b>Never trust summary statistics alone; always visualize your data</b>\n",
    "\n",
    "Use the dropdown to select different datasets. Note that the basic stats (first, second moments and correlation) are almost the same for all the datasets eventhough though the relationships between `x` and `y` are quite different (as evident from the scatter plot and histograms)"
   ]
  },
  {
   "cell_type": "code",
   "execution_count": null,
   "metadata": {},
   "outputs": [],
   "source": [
    "import pandas as pd\n",
    "\n",
    "import ipywidgets as widgets\n",
    "import bqplot.pyplot as plt"
   ]
  },
  {
   "cell_type": "code",
   "execution_count": null,
   "metadata": {},
   "outputs": [],
   "source": [
    "pd.options.display.float_format = '{:.2f}'.format"
   ]
  },
  {
   "cell_type": "code",
   "execution_count": null,
   "metadata": {},
   "outputs": [],
   "source": [
    "datasaurus_data = pd.read_csv('data/DatasaurusDozen.tsv', delimiter='\\t')\n",
    "\n",
    "# group by dataset and compute first two moments and corr\n",
    "dataset_gby = datasaurus_data.groupby('dataset')\n",
    "\n",
    "# basic stats for all datasets: mean and std\n",
    "stats = dataset_gby.agg(['mean', 'std'])\n",
    "\n",
    "# correlation between x and y for all datasets\n",
    "corr = dataset_gby.apply(lambda g: g['x'].corr(g['y']))\n",
    "\n",
    "# stats for all datasets\n",
    "stats_df = pd.concat([stats, corr], axis=1)\n",
    "stats_df.columns = ['x_mean', 'x_std', 'y_mean', 'y_std', 'corr']"
   ]
  },
  {
   "cell_type": "code",
   "execution_count": null,
   "metadata": {},
   "outputs": [],
   "source": [
    "type_dropdown = widgets.Dropdown(description='Dataset', options=list(dataset_gby.groups.keys()))\n",
    "stats_table_placeholder = widgets.Box()"
   ]
  },
  {
   "cell_type": "code",
   "execution_count": null,
   "metadata": {
    "scrolled": true
   },
   "outputs": [],
   "source": [
    "scat_fig = plt.figure(animation_duration=1000, preserve_aspect=True)\n",
    "scat_fig.layout.width = '800px'\n",
    "scat_fig.layout.height = '650px'\n",
    "scat = plt.scatter([], [], colors=['deepskyblue'], default_size=40, stroke='black')\n",
    "plt.xlabel('X')\n",
    "plt.ylabel('Y')\n",
    "\n",
    "# historgrams of X and Y\n",
    "hist_layout = widgets.Layout(height='320px', width='400px')\n",
    "hist_title_tmpl = 'Histogram of {dataset}[{var}]'\n",
    "x_hist_fig = plt.figure(layout=hist_layout)\n",
    "x_hist = plt.hist([], colors=['orangered'], bins=30)\n",
    "\n",
    "y_hist_fig = plt.figure(layout=hist_layout)\n",
    "y_hist = plt.hist([], colors=['lightgreen'], bins=30)\n",
    "\n",
    "for axis in x_hist_fig.axes:\n",
    "    axis.grid_lines = 'none'\n",
    "\n",
    "for axis in y_hist_fig.axes:\n",
    "    axis.grid_lines = 'none'\n",
    "        \n",
    "# create a callback to update the scatter and the stats table\n",
    "def update(*args):\n",
    "    dataset = type_dropdown.value\n",
    "    scat_fig.title = dataset\n",
    "    with scat.hold_sync():\n",
    "        x, y = (dataset_gby\n",
    "        .get_group(dataset)[['x', 'y']]\n",
    "        .values.T)\n",
    "        scat.x, scat.y = x, y\n",
    "    \n",
    "    x_hist.sample = x\n",
    "    x_hist_fig.title = hist_title_tmpl.format(dataset=dataset,\n",
    "                                              var='x')\n",
    "    y_hist.sample = y\n",
    "    y_hist_fig.title = hist_title_tmpl.format(dataset=dataset,\n",
    "                                              var='y')\n",
    "\n",
    "    out = widgets.Output()\n",
    "    with out:\n",
    "        display(stats_df.loc[dataset].to_frame())\n",
    "    stats_table_placeholder.children = [out]\n",
    "\n",
    "type_dropdown.observe(update, 'value')\n",
    "\n",
    "# invoke the callback on startup\n",
    "update(None)\n",
    "\n",
    "histograms = widgets.VBox([x_hist_fig, y_hist_fig])\n",
    "widgets.VBox([type_dropdown, \n",
    "              widgets.HBox([scat_fig, \n",
    "                            histograms, \n",
    "                            stats_table_placeholder])])"
   ]
  }
 ],
 "metadata": {
  "kernelspec": {
   "display_name": "Python 3 (ipykernel)",
   "language": "python",
   "name": "python3"
  },
  "language_info": {
   "codemirror_mode": {
    "name": "ipython",
    "version": 3
   },
   "file_extension": ".py",
   "mimetype": "text/x-python",
   "name": "python",
   "nbconvert_exporter": "python",
   "pygments_lexer": "ipython3",
   "version": "3.7.10"
  }
 },
 "nbformat": 4,
 "nbformat_minor": 2
}
