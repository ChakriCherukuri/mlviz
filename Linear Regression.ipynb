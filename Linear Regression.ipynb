{
 "cells": [
  {
   "cell_type": "markdown",
   "metadata": {},
   "source": [
    "In this notebook we'll learn how to:\n",
    "* Plot the `x` and `y` 1d vectors using a scatter plot\n",
    "* Add scatter plot 'enable_move' interaction which lets the user move the points (there by updating the `x` and `y` attributes of the scatter plot)\n",
    "* Add scatter plot 'click' interaction which lets the user add new points (there by updating the `x` and `y` attributes of the scatter plot)\n",
    "* Add an additional line mark (regression line) to the same figure as the scatter plot\n",
    "* Link the regression line to the updates of the scatter plot using the `observe` method on the traits of scatter plot\n",
    "* Add a reset button which resets the scatter points to their original values\n",
    "* Add a label (with latex) which displays the regression line equation in real time\n",
    "\n",
    "Fun things to try:<br>\n",
    "See the impact of outliers on the regression line by adding/moving a few points to become:\n",
    "1. outliers in both `x` and `y`\n",
    "* outliers only in `y`\n",
    "* outliers only in `x` (leverage points!)"
   ]
  },
  {
   "cell_type": "code",
   "execution_count": null,
   "metadata": {},
   "outputs": [],
   "source": [
    "import numpy as np\n",
    "\n",
    "from ipywidgets import Button, VBox, HBox, Label\n",
    "import bqplot.pyplot as plt\n",
    "from bqplot import LinearScale"
   ]
  },
  {
   "cell_type": "code",
   "execution_count": null,
   "metadata": {
    "collapsed": true
   },
   "outputs": [],
   "source": [
    "def linreg(x, y):\n",
    "    '''\n",
    "    computes intercept and slope for a simple\n",
    "    ols regression\n",
    "    '''\n",
    "    b = np.cov(x, y)[0, 1] / np.var(x)\n",
    "    a = np.mean(y) - b * np.mean(x)\n",
    "    return a, b"
   ]
  },
  {
   "cell_type": "code",
   "execution_count": null,
   "metadata": {},
   "outputs": [],
   "source": [
    "x = np.linspace(-10, 10, 50)\n",
    "y = 5 * x + 7 + np.random.randn(50) * 20\n",
    "\n",
    "def update_regline(*args):\n",
    "    # update the y attribute of the reg_line with \n",
    "    # the results of running the ols regression on \n",
    "    # x and y attributes of the scatter plot\n",
    "    a, b = linreg(scatter.x, scatter.y)\n",
    "    reg_line.y = a + b * reg_line.x\n",
    "    \n",
    "    # update the equation label\n",
    "    equation_label.value = eqn_tmpl.format(a, b)\n",
    "\n",
    "# Add a scatter plot and a regression line on the same figure\n",
    "axes_options = {'x': {'label': 'X'},\n",
    "                'y': {'label': 'Y'}}\n",
    "fig = plt.figure(title='Linear Regression', animation_duration=1000)\n",
    "                 \n",
    "plt.scales(scales={'x': LinearScale(min=-30, max=30),\n",
    "                   'y': LinearScale(min=-150, max=150)})\n",
    "\n",
    "scatter = plt.scatter(x, y, colors=['orangered'], default_size=100, \n",
    "                      enable_move=True, interactions={'click': 'add'},\n",
    "                      stroke='black')\n",
    "reg_line = plt.plot(np.arange(-30, 31), [], 'y', stroke_width=8,\n",
    "                    opacities=[.5], axes_options=axes_options)\n",
    "\n",
    "fig.layout.width = '800px'\n",
    "fig.layout.height = '550px'\n",
    "\n",
    "reset_button = Button(description='Reset', button_style='success')\n",
    "reset_button.layout.margin = '0px 30px 0px 60px'\n",
    "\n",
    "eqn_tmpl = 'Regression Line: ${:.2f} + {:.2f}x$'\n",
    "equation_label = Label()\n",
    "\n",
    "def reset_points(*args):\n",
    "    '''\n",
    "    resets the scatter's x and y points \n",
    "    to the original values\n",
    "    '''\n",
    "    with scatter.hold_trait_notifications():\n",
    "        scatter.x = x\n",
    "        scatter.y = y\n",
    "\n",
    "# on button click reset the scatter points\n",
    "reset_button.on_click(lambda btn: reset_points())\n",
    "# recompute reg line when new points are added\n",
    "scatter.observe(update_regline, ['x', 'y'])\n",
    "\n",
    "# compute the reg line\n",
    "update_regline(None)"
   ]
  },
  {
   "cell_type": "code",
   "execution_count": null,
   "metadata": {},
   "outputs": [],
   "source": [
    "VBox([fig, HBox([reset_button, equation_label])])"
   ]
  }
 ],
 "metadata": {
  "kernelspec": {
   "display_name": "Python 3",
   "language": "python",
   "name": "python3"
  },
  "language_info": {
   "codemirror_mode": {
    "name": "ipython",
    "version": 3
   },
   "file_extension": ".py",
   "mimetype": "text/x-python",
   "name": "python",
   "nbconvert_exporter": "python",
   "pygments_lexer": "ipython3",
   "version": "3.8.6"
  }
 },
 "nbformat": 4,
 "nbformat_minor": 2
}
