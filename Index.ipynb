{
 "cells": [
  {
   "cell_type": "markdown",
   "metadata": {},
   "source": [
    "## `mlviz` topics\n",
    "\n",
    "* Data distributions\n",
    "    * [Datasaurus Dozen](Datasaurus.ipynb)\n",
    "    * [Univariate Gaussian Distribution](Gaussian%20Density.ipynb)\n",
    "    \n",
    "* Unsupervised learning\n",
    "    * Low dimensional representations\n",
    "        * [IRIS](IRIS%20Visualization.ipynb)\n",
    "        * [MNIST](MNIST%20Visualization.ipynb)\n",
    "    * Clustering\n",
    "        * [K-Means](K-Means%20Clustering.ipynb)\n",
    "\n",
    "* Supervised learning\n",
    "    * [Linear Regression](Linear%20Regression.ipynb) \n",
    "    * [Perceptron](Perceptron%20Animation.ipynb)\n",
    "    * [Kernel Regression](Kernel%20Regression.ipynb)\n",
    "    * [Gradient Descent](Gradient%20Descent.ipynb)\n",
    "\n",
    "* Bayesian Optimization\n",
    "    * [Gaussian Process Regression](Gaussian%20Process%20Regression.ipynb)\n",
    "    * Acquisition Functions and BO"
   ]
  }
 ],
 "metadata": {
  "kernelspec": {
   "display_name": "Python 3",
   "language": "python",
   "name": "python3"
  },
  "language_info": {
   "codemirror_mode": {
    "name": "ipython",
    "version": 3
   },
   "file_extension": ".py",
   "mimetype": "text/x-python",
   "name": "python",
   "nbconvert_exporter": "python",
   "pygments_lexer": "ipython3",
   "version": "3.8.2"
  }
 },
 "nbformat": 4,
 "nbformat_minor": 4
}
