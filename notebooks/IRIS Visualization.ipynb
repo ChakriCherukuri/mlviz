{
 "cells": [
  {
   "cell_type": "code",
   "execution_count": null,
   "metadata": {},
   "outputs": [],
   "source": [
    "import pandas as pd\n",
    "\n",
    "from ipywidgets import *\n",
    "from bqplot import *\n",
    "import bqplot.pyplot as plt"
   ]
  },
  {
   "cell_type": "code",
   "execution_count": null,
   "metadata": {},
   "outputs": [],
   "source": [
    "iris_csv_path = './data/iris.data'\n",
    "iris_df = pd.read_csv(iris_csv_path)\n",
    "\n",
    "# convert the data into feature matrix (X) and labels (y)\n",
    "X, classes = iris_df.drop('class', axis=1).values, iris_df['class']"
   ]
  },
  {
   "cell_type": "code",
   "execution_count": null,
   "metadata": {},
   "outputs": [],
   "source": [
    "from sklearn.decomposition import PCA\n",
    "from sklearn.manifold import MDS, TSNE\n",
    "    \n",
    "# PCA\n",
    "pca = PCA(n_components=2)\n",
    "X_pca = pca.fit_transform(X)\n",
    "print('PCA done')\n",
    "\n",
    "# MDS\n",
    "mds = MDS(n_components=2)\n",
    "X_mds = mds.fit_transform(X)\n",
    "print('MDS done')\n",
    "\n",
    "# TSNE\n",
    "tsne = TSNE(n_components=2, perplexity=20, learning_rate=5)\n",
    "X_tsne = tsne.fit_transform(X)\n",
    "print('TSNE done')"
   ]
  },
  {
   "cell_type": "code",
   "execution_count": null,
   "metadata": {
    "scrolled": false
   },
   "outputs": [],
   "source": [
    "data_map = {'MDS': X_mds, 'PCA': X_pca, 'TSNE': X_tsne}\n",
    "method_dropown = Dropdown(description='Embedding', options=list(data_map.keys()))\n",
    "\n",
    "title_tmpl = '{} on IRIS dataset'\n",
    "fig = plt.figure(title=title_tmpl.format(method_dropown.value), \n",
    "                 fig_margin=dict(top=60, bottom=40, left=60, right=150),\n",
    "                 animation_duration=1000)\n",
    "fig.layout.width = '1000px'\n",
    "fig.layout.height = '700px'\n",
    "plt.scales(scales={'color': OrdinalColorScale(colors=CATEGORY10)})\n",
    "axes_options = {'x': {'label': 'X1'}, \n",
    "                'y': {'label': 'X2'},\n",
    "                'color': {'orientation': 'vertical', \n",
    "                          'side': 'right'}\n",
    "               }\n",
    "scatter = plt.scatter([], [], color=classes, stroke='black', \n",
    "                      default_size=64, axes_options=axes_options)\n",
    "\n",
    "def update(*args):\n",
    "    method = method_dropown.value\n",
    "    fig.title = title_tmpl.format(method)\n",
    "    X = data_map[method]\n",
    "    with scatter.hold_sync():\n",
    "        scatter.x = X[:, 0]\n",
    "        scatter.y = X[:, 1]\n",
    "\n",
    "method_dropown.observe(update, 'value')\n",
    "update()\n",
    "VBox([method_dropown, fig])"
   ]
  }
 ],
 "metadata": {
  "kernelspec": {
   "display_name": "Python 3",
   "language": "python",
   "name": "python3"
  },
  "language_info": {
   "codemirror_mode": {
    "name": "ipython",
    "version": 3
   },
   "file_extension": ".py",
   "mimetype": "text/x-python",
   "name": "python",
   "nbconvert_exporter": "python",
   "pygments_lexer": "ipython3",
   "version": "3.7.3"
  }
 },
 "nbformat": 4,
 "nbformat_minor": 2
}
